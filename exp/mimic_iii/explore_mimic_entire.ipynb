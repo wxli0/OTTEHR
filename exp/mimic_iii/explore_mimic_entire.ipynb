{
 "cells": [
  {
   "cell_type": "code",
   "execution_count": null,
   "metadata": {},
   "outputs": [],
   "source": [
    "\"\"\" \n",
    "Goals: Find the candidate features (ICD codes) and response (ICD code)\n",
    "Ideally, we want features to have different frequencies for different domains\n",
    "\n",
    "Explore in the following way:\n",
    "- Target/source features by (frequency, ratio, description)\n",
    "- Correlation matrix (target vs source feature correlation)\n",
    "\n",
    "\"\"\""
   ]
  },
  {
   "cell_type": "code",
   "execution_count": null,
   "metadata": {},
   "outputs": [],
   "source": [
    "import getpass\n",
    "user_id = getpass.getuser()\n",
    "import sys\n",
    "sys.path.append(f\"/home/{user_id}/OTTEHR/\")\n",
    "\n",
    "import collections\n",
    "from common import *\n",
    "from ast import literal_eval\n",
    "# %matplotlib notebook\n",
    "import matplotlib.pyplot as plt\n",
    "import math\n",
    "from mpl_toolkits import mplot3d\n",
    "import numpy as np\n",
    "import pandas as pd\n",
    "import random\n",
    "from select_codes import *\n",
    "from sklearn.linear_model import LogisticRegression\n",
    "from sklearn.svm import SVC\n",
    "from sklearn.decomposition import PCA\n",
    "from sklearn.metrics import precision_score, recall_score, accuracy_score\n",
    "import seaborn as sns\n"
   ]
  },
  {
   "cell_type": "code",
   "execution_count": null,
   "metadata": {},
   "outputs": [],
   "source": [
    "def divide_dataset(df, divide_feature, group_1, group_2):\n",
    "    \"\"\" \n",
    "    Divide dataset into group 1 (key value group_1) and group 2 (key value group_2) \\\n",
    "        by dividing feature divide_feature\n",
    "\n",
    "    Returns: group 1 relative frequency dictionary, group 2 relative frequency dictionary, \\\n",
    "        group 1 total number of codes, group 2 total number of codes \\\n",
    "        total number of unique codes \n",
    "    \"\"\"\n",
    "    print(\"df shape is:\", df.shape)\n",
    "    group_1_df = df.loc[df[divide_feature] == group_1]\n",
    "    print(\"group_1_df shape is:\", group_1_df.shape)\n",
    "    group_1_codes = []\n",
    "    for _, row in group_1_df.iterrows():\n",
    "        group_1_codes.extend(row['ICD codes'])\n",
    "    group_1_freq_dict = dict(collections.Counter(group_1_codes))\n",
    "    group_1_total = sum(group_1_freq_dict.values())\n",
    "    group_1_freq_dict = {k: v / group_1_total for k, v in group_1_freq_dict.items()}\n",
    "\n",
    "    group_2_df = df.loc[df[divide_feature] == group_2]\n",
    "    print(\"group_2_df shape is:\", group_2_df.shape)\n",
    "    group_2_codes = []\n",
    "    for _, row in group_2_df.iterrows():\n",
    "        group_2_codes.extend(row['ICD codes'])\n",
    "    group_2_freq_dict = dict(collections.Counter(group_2_codes))\n",
    "    group_2_total = sum(group_2_freq_dict.values())\n",
    "    group_2_freq_dict = {k: v / group_2_total for k, v in group_2_freq_dict.items()}\n",
    "\n",
    "    unique_codes = list(group_1_freq_dict.keys())\n",
    "    unique_codes.extend(list(group_2_freq_dict.keys()))\n",
    "    num_unique_codes = len(list(set(unique_codes)))\n",
    "\n",
    "    return group_1_freq_dict, group_2_freq_dict, group_1_total, group_2_total, num_unique_codes\n"
   ]
  },
  {
   "cell_type": "code",
   "execution_count": null,
   "metadata": {},
   "outputs": [],
   "source": [
    "def find_differ_codes(dict_1, dict_2, diff_percent):\n",
    "    \"\"\" \n",
    "    Find codes in dictionary 1 (dict_1) and and dictionary 2 (dict 2) \\\n",
    "        with relative frequencies differing by diff_percent, \n",
    "    \n",
    "    Returns: the codes differing by diff_percent\n",
    "    \"\"\"\n",
    "    diff_codes = []\n",
    "    for key, value in dict_1.items():\n",
    "        # print(key, value)\n",
    "        if key in dict_2:\n",
    "            if abs(dict_2[key] - value) > diff_percent:\n",
    "                diff_codes.append(key)\n",
    "                print(f\"code {key}: dictionary 1 frequency - {value}, dictionary 2 frequency - {dict_2[key]}\")\n",
    "        elif value > diff_percent:\n",
    "            diff_codes.append\n",
    "            print(f\"code {key}: dictionary 1 frequency - {value}, dictionary 2 frequency - 0\")\n",
    "\n",
    "    for key, value in dict_2.items():\n",
    "        if key not in dict_1 and value > diff_percent:\n",
    "            diff_codes.append(key)\n",
    "            print(f\"code {key}: dictionary 1 frequency - 0, dictionary 2 frequency - {value}\")\n",
    "\n",
    "    dict_diff_1 = {}\n",
    "    dict_diff_2 = {}\n",
    "\n",
    "    for key, value in dict_1.items():\n",
    "        if key in diff_codes:\n",
    "            dict_diff_1[key] = value\n",
    "\n",
    "    for key, value in dict_2.items():\n",
    "        if key in diff_codes:\n",
    "            dict_diff_2[key] = value  \n",
    "\n",
    "    return diff_codes, dict_diff_1, dict_diff_2\n"
   ]
  },
  {
   "cell_type": "code",
   "execution_count": null,
   "metadata": {},
   "outputs": [],
   "source": [
    "\"\"\" \n",
    "Read in dataset and select codes\n",
    "\"\"\"\n",
    "\n",
    "df_path = f\"/home/{user_id}/OTTEHR/outputs/mimic/admission_patient_diagnosis_ICD.csv\"\n",
    "admid_diag_df = pd.read_csv(df_path, index_col=0, header=0, converters={'ICD codes': literal_eval})\n",
    "admid_diag_df\n",
    "\n",
    "male_freq_dict, female_freq_dict = construct_freq_dict_group(admid_diag_df, 'gender', 'M', 'F')\n",
    "male_min_count = 120\n",
    "female_min_count = 100\n",
    "selected_codes = select_codes(male_freq_dict, female_freq_dict, male_min_count*2, female_min_count*2)\n",
    "'V50.2' in selected_codes"
   ]
  },
  {
   "cell_type": "code",
   "execution_count": null,
   "metadata": {},
   "outputs": [],
   "source": [
    "len(list(male_freq_dict.keys()))"
   ]
  },
  {
   "cell_type": "code",
   "execution_count": null,
   "metadata": {},
   "outputs": [],
   "source": [
    "# preprocess the dataset to keep only the top codes\n",
    "\n",
    "admid_diag_filtered_df = admid_diag_df.copy(deep=True)\n",
    "empty_indices = []\n",
    "for index, row in admid_diag_filtered_df.iterrows():\n",
    "    codes = row['ICD codes']\n",
    "    filtered_codes = [code for code in codes if code in selected_codes]\n",
    "    admid_diag_filtered_df.at[index, 'ICD codes'] = filtered_codes\n",
    "    if len(filtered_codes) == 0:\n",
    "        empty_indices.append(index)\n",
    "admid_diag_filtered_df = admid_diag_filtered_df.drop(empty_indices)\n",
    "print(admid_diag_filtered_df.shape)\n",
    "print(admid_diag_df.shape)\n",
    "\n",
    "all_codes = []\n",
    "for index, row in admid_diag_filtered_df.iterrows():\n",
    "    all_codes.extend(row['ICD codes'])\n",
    "\n",
    "\n",
    "data_path = \"../../outputs/mimic/ADMID_DIAGNOSIS_selected.csv\"\n",
    "admid_diag_filtered_df.to_csv(data_path, index=True, header=True)\n",
    "admid_diag_filtered_df\n"
   ]
  },
  {
   "attachments": {},
   "cell_type": "markdown",
   "metadata": {},
   "source": [
    "# Divide by gender"
   ]
  },
  {
   "cell_type": "code",
   "execution_count": null,
   "metadata": {},
   "outputs": [],
   "source": [
    "\"\"\" \n",
    "Calculates ICD code frequencies for target and source\n",
    "\"\"\"\n",
    "male_freq_dict, female_freq_dict, male_total, female_total, num_unique_codes = divide_dataset(admid_diag_df, 'gender', 'M', 'F')\n",
    "print(\"male total number of code is:\", male_total)\n",
    "print(\"female total number of code is:\", female_total)\n",
    "print(\"number of unique codes is:\", num_unique_codes)\n",
    "avg_percent = 1/num_unique_codes\n",
    "print(\"avg percent is:\", avg_percent)"
   ]
  },
  {
   "cell_type": "code",
   "execution_count": null,
   "metadata": {},
   "outputs": [],
   "source": [
    "# Find frequencies in female and male dictionaries differing by diff_percent\n",
    "diff_codes, male_diff_dict, female_diff_dict = find_differ_codes(male_freq_dict, female_freq_dict, 10*avg_percent)\n",
    "print(\"number of differing codes is:\", len(diff_codes))\n",
    "\n",
    "# report the statistics in REB application"
   ]
  },
  {
   "cell_type": "code",
   "execution_count": null,
   "metadata": {},
   "outputs": [],
   "source": [
    "# Find frequency difference for the filtered dataframe\n",
    "male_freq_dict, female_freq_dict, male_total, female_total, num_unique_codes = divide_dataset(admid_diag_filtered_df, 'gender', 'M', 'F')\n",
    "avg_percent = 1/num_unique_codes\n",
    "print(\"avg percent is:\", avg_percent)\n",
    "\n",
    "diff_codes, male_diff_dict, female_diff_dict = find_differ_codes(male_freq_dict, female_freq_dict, avg_percent)\n",
    "print(\"number of differing codes is:\", len(diff_codes))"
   ]
  },
  {
   "cell_type": "code",
   "execution_count": null,
   "metadata": {},
   "outputs": [],
   "source": [
    "# visualize differing codes\n",
    "plt.bar(list(male_diff_dict.keys()), list(male_diff_dict.values()), alpha=0.5, label=\"male\")\n",
    "plt.bar(list(female_diff_dict.keys()), list(female_diff_dict.values()), alpha=0.5, label=\"female\")\n",
    "plt.xticks(rotation = 90) \n",
    "plt.legend()\n",
    "plt.show()"
   ]
  },
  {
   "attachments": {},
   "cell_type": "markdown",
   "metadata": {},
   "source": [
    "# Divide by admission type"
   ]
  },
  {
   "cell_type": "code",
   "execution_count": null,
   "metadata": {},
   "outputs": [],
   "source": [
    "\"\"\" \n",
    "Calculate the number of emergency, elective and newborn\n",
    "\"\"\"\n",
    "types = list(admid_diag_df['adm_type'])\n",
    "print(\"emergency count is:\", types.count('EMERGENCY'))\n",
    "print(\"elective count is:\", types.count('ELECTIVE'))\n",
    "print(\"newborn count is:\", types.count('NEWBORN'))"
   ]
  },
  {
   "cell_type": "code",
   "execution_count": null,
   "metadata": {},
   "outputs": [],
   "source": [
    "emergency_freq_dict, elective_freq_dict, emergency_total, elective_total, num_unique_codes \\\n",
    "    = divide_dataset(admid_diag_df, 'adm_type', 'EMERGENCY', 'ELECTIVE')\n",
    "avg_percent = 1/num_unique_codes\n",
    "print(\"avg percent is:\", avg_percent)"
   ]
  },
  {
   "cell_type": "code",
   "execution_count": null,
   "metadata": {},
   "outputs": [],
   "source": [
    "# Find frequencies in emergency and elective dictionaries differing by diff_percent\n",
    "diff_codes = find_differ_codes(emergency_freq_dict, elective_freq_dict, 10*avg_percent)\n",
    "print(\"number of differing codes is:\", len(diff_codes))"
   ]
  },
  {
   "cell_type": "code",
   "execution_count": null,
   "metadata": {},
   "outputs": [],
   "source": [
    "# Find frequency difference for the filtered dataframe\n",
    "emergency_freq_dict, elective_freq_dict, emergency_total, elective_total, num_unique_codes \\\n",
    "    = divide_dataset(admid_diag_filtered_df, 'adm_type', 'EMERGENCY', 'ELECTIVE')\n",
    "avg_percent = 1/num_unique_codes\n",
    "print(\"avg percent is:\", avg_percent)\n",
    "\n",
    "diff_codes, emergency_diff_dict, elective_diff_dict,  = find_differ_codes(emergency_freq_dict, elective_freq_dict, avg_percent)\n",
    "print(\"number of differing codes is:\", len(diff_codes))"
   ]
  },
  {
   "cell_type": "code",
   "execution_count": null,
   "metadata": {},
   "outputs": [],
   "source": [
    "# visualize differing codes\n",
    "plt.bar(list(emergency_diff_dict.keys()), list(emergency_diff_dict.values()), alpha=0.5, label=\"emergency\")\n",
    "plt.bar(list(elective_diff_dict.keys()), list(elective_diff_dict.values()), alpha=0.5, label=\"elective\")\n",
    "plt.xticks(rotation = 90) \n",
    "plt.legend()\n",
    "plt.show()"
   ]
  },
  {
   "cell_type": "code",
   "execution_count": null,
   "metadata": {},
   "outputs": [],
   "source": []
  }
 ],
 "metadata": {
  "kernelspec": {
   "display_name": "Python 3",
   "language": "python",
   "name": "python3"
  },
  "language_info": {
   "codemirror_mode": {
    "name": "ipython",
    "version": 3
   },
   "file_extension": ".py",
   "mimetype": "text/x-python",
   "name": "python",
   "nbconvert_exporter": "python",
   "pygments_lexer": "ipython3",
   "version": "3.9.12"
  },
  "orig_nbformat": 4,
  "vscode": {
   "interpreter": {
    "hash": "f9f85f796d01129d0dd105a088854619f454435301f6ffec2fea96ecbd9be4ac"
   }
  }
 },
 "nbformat": 4,
 "nbformat_minor": 2
}
